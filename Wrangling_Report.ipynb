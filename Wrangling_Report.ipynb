{
 "cells": [
  {
   "cell_type": "markdown",
   "metadata": {},
   "source": [
    "# Wrangle Report"
   ]
  },
  {
   "cell_type": "markdown",
   "metadata": {},
   "source": [
    "When using `tweet = api.get_status('892420643555336193')`, it will return the text rather than the JSON. When change the tweet_mode to extended as `tweet2 = api.get_status('892420643555336193', tweet_mode= 'extended')`, it will return JSON as needed."
   ]
  },
  {
   "cell_type": "markdown",
   "metadata": {},
   "source": [
    "After melt the dog stage columns and merge with archive_clean, number of rows is 2370, an addition of 14 rows. Where do these 14 rows come from? After check dog_stage_data, find out there are 14 tweet_id duplicates because some tweet_ids have more than one value in dog_stage columns. Those should be dropped from the archive_clean."
   ]
  },
  {
   "cell_type": "markdown",
   "metadata": {},
   "source": [
    "When solving the tidiness issue concerning the prejection table, I started with the method in the [link](https://github.com/pandas-dev/pandas/issues/17676), but faild with ValueError (setting an array element with a sequence). Cannot solve the problem. Tried to  melt the three groups one by one. One issue came up when merge these three melted table is the result table is much larger than the intented size which should be 6225. After look into the individual melted table, there are duplicates which will result in an increase in the rows when merge with another table with duplicates. Cannot solve this problem either. Find another method on [link](https://stackoverflow.com/questions/38862832/pandas-melt-several-groups-of-columns-into-multiple-target-columns-by-name ) which is `pd.wide_to_long`. At first, cannot figure out how stubnames and sep works. After changing the name as the example in the stakoverflow post, it worked. I realised that the stubnames should be related to the column names in the table. The result table is the result I wanted. However, one column indicating which prediction it is should be added in the table.  "
   ]
  },
  {
   "cell_type": "markdown",
   "metadata": {},
   "source": [
    "When convert multiple columns from float to int, I tried to use read_csv assign dtype to the columns, failed as error:Cannot cast array from dtype('float64') to dtype('int64') according to the rule 'safe'. Caanot figure out. \n",
    "\n",
    "After some research, this [Support for Integer NA Problem](http://pandas.pydata.org/pandas-docs/stable/gotchas.html#support-for-integer-na) came up. So, just leave it as float. For the same reason, when merge retweet and favorite count table with archive, data type of retweet_count and favorite_count changes from int to float. After droping rows with null value, use `astype` to convert to int."
   ]
  }
 ],
 "metadata": {
  "kernelspec": {
   "display_name": "Python 3",
   "language": "python",
   "name": "python3"
  },
  "language_info": {
   "codemirror_mode": {
    "name": "ipython",
    "version": 3
   },
   "file_extension": ".py",
   "mimetype": "text/x-python",
   "name": "python",
   "nbconvert_exporter": "python",
   "pygments_lexer": "ipython3",
   "version": "3.6.7"
  }
 },
 "nbformat": 4,
 "nbformat_minor": 2
}
