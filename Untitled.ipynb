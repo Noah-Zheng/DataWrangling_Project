{
 "cells": [
  {
   "cell_type": "markdown",
   "metadata": {},
   "source": [
    "tweet = api.get_status('892420643555336193') #it will return the text\n",
    "tweet2 = api.get_status('892420643555336193', tweet_mode= 'extended') # it will return JSON"
   ]
  },
  {
   "cell_type": "code",
   "execution_count": 2,
   "metadata": {},
   "outputs": [
    {
     "name": "stdout",
     "output_type": "stream",
     "text": [
      "happy_birthday\n"
     ]
    }
   ],
   "source": [
    "print('happy'+'_'+'birthday')"
   ]
  },
  {
   "cell_type": "markdown",
   "metadata": {},
   "source": [
    "t_id data type is int, converted to list turn into float, cannot be used in get_status"
   ]
  }
 ],
 "metadata": {
  "kernelspec": {
   "display_name": "Python 3",
   "language": "python",
   "name": "python3"
  },
  "language_info": {
   "codemirror_mode": {
    "name": "ipython",
    "version": 3
   },
   "file_extension": ".py",
   "mimetype": "text/x-python",
   "name": "python",
   "nbconvert_exporter": "python",
   "pygments_lexer": "ipython3",
   "version": "3.6.6"
  }
 },
 "nbformat": 4,
 "nbformat_minor": 2
}
