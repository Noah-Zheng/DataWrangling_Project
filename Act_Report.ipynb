{
 "cells": [
  {
   "cell_type": "markdown",
   "metadata": {},
   "source": [
    "# Act Report"
   ]
  },
  {
   "cell_type": "markdown",
   "metadata": {},
   "source": [
    "Some visualisation and observations.\n",
    "1. The following is a distribution of number of dogs of each rating between 7 and 15.\n",
    "<img src = 'Frequency of Rating_numerator.png'>\n",
    "This chart indicates that the majority of dogs has the rating of 10, 11, 12. \n",
    "\n",
    "\n",
    "2. In the following chart, dogs with higher rating is likely to have more favorite.\n",
    "<img src = 'Relationship between Rating_numerator and Favorite_count.png'>\n",
    "\n",
    "3. More favorite would likely result in more retweets as shown in the following chart.\n",
    "<img src = 'Relationship between Favorite and Retweet.png'>\n"
   ]
  }
 ],
 "metadata": {
  "kernelspec": {
   "display_name": "Python 3",
   "language": "python",
   "name": "python3"
  },
  "language_info": {
   "codemirror_mode": {
    "name": "ipython",
    "version": 3
   },
   "file_extension": ".py",
   "mimetype": "text/x-python",
   "name": "python",
   "nbconvert_exporter": "python",
   "pygments_lexer": "ipython3",
   "version": "3.6.7"
  }
 },
 "nbformat": 4,
 "nbformat_minor": 2
}
