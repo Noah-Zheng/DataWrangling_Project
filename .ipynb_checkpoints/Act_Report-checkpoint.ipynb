{
 "cells": [
  {
   "cell_type": "markdown",
   "metadata": {},
   "source": [
    "# Act Report"
   ]
  },
  {
   "cell_type": "markdown",
   "metadata": {},
   "source": [
    "[WeRateDogs](https://twitter.com/dog_rates) is the most popular twitter rating dogs.\n",
    "\n",
    "The WeRateDogs Twitter archive is provided for Udacity students to practice data wrangling skills. The archive includs information of tweet id, timestamp, text, rating_numerator, rating_demoninator etc. In addtion, a file of image prediction is provided and can be downloaded programmatically using `requests`. \n",
    "\n",
    "The first part of data wrangling is to collect data. \n",
    "The twitter_archive_enhanced.csv file is downloaded manually and the the image_predictions.tsv file is downloaded programmatically. Twitter's API is used to query each tweet in the archive file to extract JSON data used for later analyse. In this project, only information about retweet count and favorite count is extracted from the JSON data. Some other information such as timestamp of favorite would be usefull when exploring the trend of favorite during a period. \n",
    "\n",
    "The second part is to assess the data collected.\n",
    "Visual assessment and programmactical assessment are used to identify several quality and tidiness issues. \n",
    "\n",
    "After documenting the issues comes the first part of data wrangling, cleaning the data. \n",
    "The tidiness issues are dealt with firstly and quality issues later. Afer the cleaning part is done, cleaned data is stored in twitter_archive_master.csv.\n",
    "\n",
    "Some visualisation and observations.\n",
    "1. The following is a distribution of number of dogs of each rating between 7 and 15.\n",
    "<img src = 'Frequency of Rating_numerator.png'>\n",
    "The majority of dogs has the rating of 10, 11, 12. \n",
    "\n",
    "\n",
    "2. In the following chart, dogs with higher rating is likely to have more favorite.\n",
    "<img src = 'Relationship between Rating_numerator and Favorite_count.png'>\n",
    "\n",
    "3. More favorite would likely result in more retweets as shown in the following chart.\n",
    "<img src = 'Relationship between Favorite and Retweet.png'>\n"
   ]
  },
  {
   "cell_type": "markdown",
   "metadata": {},
   "source": []
  }
 ],
 "metadata": {
  "kernelspec": {
   "display_name": "Python 3",
   "language": "python",
   "name": "python3"
  },
  "language_info": {
   "codemirror_mode": {
    "name": "ipython",
    "version": 3
   },
   "file_extension": ".py",
   "mimetype": "text/x-python",
   "name": "python",
   "nbconvert_exporter": "python",
   "pygments_lexer": "ipython3",
   "version": "3.6.7"
  }
 },
 "nbformat": 4,
 "nbformat_minor": 2
}
