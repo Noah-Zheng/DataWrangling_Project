{
 "cells": [
  {
   "cell_type": "markdown",
   "metadata": {},
   "source": [
    "# Act Report"
   ]
  },
  {
   "cell_type": "markdown",
   "metadata": {},
   "source": [
    "Some visualisation and observations.\n",
    "1. The following is a distribution of number of dogs of each rating between 7 and 15.\n",
    "<img src = 'Frequency of Rating_numerator.png'>\n",
    "This chart indicates that the majority of dogs are in the rating range of 10-12. \n",
    "\n",
    "\n",
    "2. In the following chart, dogs with higher rating is likely to have more favorite.\n",
    "<img src = 'Relationship between Rating_numerator and Favorite_count.png'>\n",
    "\n",
    "3. More favorite would likely result in more retweets as shown in the following chart.\n",
    "<img src = 'Relationship between Favorite and Retweet.png'>\n",
    "\n",
    "4. This bar chart tells us the top 5 most popular breeds.\n",
    "<img src = 'Top 5.png'>\n",
    "They are:\n",
    "\n",
    "    1. Golden Retriever \n",
    "    2. Labrador Retriever \n",
    "    3. Pembroke \n",
    "    4. Chihuahua \n",
    "    5. Pug "
   ]
  }
 ],
 "metadata": {
  "kernelspec": {
   "display_name": "Python 3",
   "language": "python",
   "name": "python3"
  },
  "language_info": {
   "codemirror_mode": {
    "name": "ipython",
    "version": 3
   },
   "file_extension": ".py",
   "mimetype": "text/x-python",
   "name": "python",
   "nbconvert_exporter": "python",
   "pygments_lexer": "ipython3",
   "version": "3.6.7"
  }
 },
 "nbformat": 4,
 "nbformat_minor": 2
}
